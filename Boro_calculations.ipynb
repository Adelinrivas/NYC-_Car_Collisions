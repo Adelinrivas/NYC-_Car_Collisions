{
 "cells": [
  {
   "cell_type": "code",
   "execution_count": 1,
   "id": "54b0d8e2",
   "metadata": {},
   "outputs": [],
   "source": [
    "import pandas as pd\n",
    "import time\n"
   ]
  },
  {
   "cell_type": "markdown",
   "id": "263802b4",
   "metadata": {},
   "source": [
    "## Import"
   ]
  },
  {
   "cell_type": "code",
   "execution_count": 2,
   "id": "7efe8cbe",
   "metadata": {},
   "outputs": [],
   "source": [
    "clean_df = pd.read_csv(\"nyc_traffic_collision_clean.csv\")"
   ]
  },
  {
   "cell_type": "code",
   "execution_count": 3,
   "id": "c6d5961a",
   "metadata": {
    "scrolled": true
   },
   "outputs": [
    {
     "data": {
      "text/html": [
       "<div>\n",
       "<style scoped>\n",
       "    .dataframe tbody tr th:only-of-type {\n",
       "        vertical-align: middle;\n",
       "    }\n",
       "\n",
       "    .dataframe tbody tr th {\n",
       "        vertical-align: top;\n",
       "    }\n",
       "\n",
       "    .dataframe thead th {\n",
       "        text-align: right;\n",
       "    }\n",
       "</style>\n",
       "<table border=\"1\" class=\"dataframe\">\n",
       "  <thead>\n",
       "    <tr style=\"text-align: right;\">\n",
       "      <th></th>\n",
       "      <th>CRASH DATE</th>\n",
       "      <th>CRASH TIME</th>\n",
       "      <th>BOROUGH</th>\n",
       "      <th>ZIP CODE</th>\n",
       "      <th>LATITUDE</th>\n",
       "      <th>LONGITUDE</th>\n",
       "      <th>LOCATION</th>\n",
       "      <th>ON STREET NAME</th>\n",
       "      <th>CROSS STREET NAME</th>\n",
       "      <th>OFF STREET NAME</th>\n",
       "      <th>...</th>\n",
       "      <th>NUMBER OF PEDESTRIANS KILLED</th>\n",
       "      <th>NUMBER OF CYCLIST INJURED</th>\n",
       "      <th>NUMBER OF CYCLIST KILLED</th>\n",
       "      <th>NUMBER OF MOTORIST INJURED</th>\n",
       "      <th>NUMBER OF MOTORIST KILLED</th>\n",
       "      <th>CONTRIBUTING FACTOR VEHICLE 1</th>\n",
       "      <th>CONTRIBUTING FACTOR VEHICLE 2</th>\n",
       "      <th>COLLISION_ID</th>\n",
       "      <th>VEHICLE TYPE CODE 1</th>\n",
       "      <th>VEHICLE TYPE CODE 2</th>\n",
       "    </tr>\n",
       "  </thead>\n",
       "  <tbody>\n",
       "    <tr>\n",
       "      <th>0</th>\n",
       "      <td>01/01/2017</td>\n",
       "      <td>3:32</td>\n",
       "      <td>BROOKLYN</td>\n",
       "      <td>11237.0</td>\n",
       "      <td>40.709330</td>\n",
       "      <td>-73.92249</td>\n",
       "      <td>(40.70933, -73.92249)</td>\n",
       "      <td>JOHNSON AVENUE</td>\n",
       "      <td>SCOTT AVENUE</td>\n",
       "      <td>NaN</td>\n",
       "      <td>...</td>\n",
       "      <td>0</td>\n",
       "      <td>0</td>\n",
       "      <td>0</td>\n",
       "      <td>3</td>\n",
       "      <td>0</td>\n",
       "      <td>Traffic Control Disregarded</td>\n",
       "      <td>Unspecified</td>\n",
       "      <td>3591133</td>\n",
       "      <td>Station Wagon/Sport Utility Vehicle</td>\n",
       "      <td>Sedan</td>\n",
       "    </tr>\n",
       "    <tr>\n",
       "      <th>1</th>\n",
       "      <td>01/01/2017</td>\n",
       "      <td>10:20</td>\n",
       "      <td>QUEENS</td>\n",
       "      <td>11372.0</td>\n",
       "      <td>40.751003</td>\n",
       "      <td>-73.89213</td>\n",
       "      <td>(40.751003, -73.89213)</td>\n",
       "      <td>35 AVENUE</td>\n",
       "      <td>74 STREET</td>\n",
       "      <td>NaN</td>\n",
       "      <td>...</td>\n",
       "      <td>0</td>\n",
       "      <td>0</td>\n",
       "      <td>0</td>\n",
       "      <td>0</td>\n",
       "      <td>0</td>\n",
       "      <td>Unspecified</td>\n",
       "      <td>Unspecified</td>\n",
       "      <td>3596737</td>\n",
       "      <td>Taxi</td>\n",
       "      <td>Taxi</td>\n",
       "    </tr>\n",
       "    <tr>\n",
       "      <th>2</th>\n",
       "      <td>01/01/2017</td>\n",
       "      <td>16:15</td>\n",
       "      <td>MANHATTAN</td>\n",
       "      <td>10027.0</td>\n",
       "      <td>40.807770</td>\n",
       "      <td>-73.94549</td>\n",
       "      <td>(40.80777, -73.94549)</td>\n",
       "      <td>WEST 125 STREET</td>\n",
       "      <td>LENOX AVENUE</td>\n",
       "      <td>NaN</td>\n",
       "      <td>...</td>\n",
       "      <td>0</td>\n",
       "      <td>0</td>\n",
       "      <td>0</td>\n",
       "      <td>0</td>\n",
       "      <td>0</td>\n",
       "      <td>Driver Inattention/Distraction</td>\n",
       "      <td>NaN</td>\n",
       "      <td>3590923</td>\n",
       "      <td>Sedan</td>\n",
       "      <td>NaN</td>\n",
       "    </tr>\n",
       "    <tr>\n",
       "      <th>3</th>\n",
       "      <td>01/01/2017</td>\n",
       "      <td>11:01</td>\n",
       "      <td>MANHATTAN</td>\n",
       "      <td>10017.0</td>\n",
       "      <td>40.751120</td>\n",
       "      <td>-73.97127</td>\n",
       "      <td>(40.75112, -73.97127)</td>\n",
       "      <td>EAST 44 STREET</td>\n",
       "      <td>2 AVENUE</td>\n",
       "      <td>NaN</td>\n",
       "      <td>...</td>\n",
       "      <td>0</td>\n",
       "      <td>0</td>\n",
       "      <td>0</td>\n",
       "      <td>0</td>\n",
       "      <td>0</td>\n",
       "      <td>Driver Inattention/Distraction</td>\n",
       "      <td>Following Too Closely</td>\n",
       "      <td>3590173</td>\n",
       "      <td>Station Wagon/Sport Utility Vehicle</td>\n",
       "      <td>Station Wagon/Sport Utility Vehicle</td>\n",
       "    </tr>\n",
       "    <tr>\n",
       "      <th>4</th>\n",
       "      <td>01/01/2017</td>\n",
       "      <td>0:00</td>\n",
       "      <td>BROOKLYN</td>\n",
       "      <td>11210.0</td>\n",
       "      <td>40.632427</td>\n",
       "      <td>-73.94083</td>\n",
       "      <td>(40.632427, -73.94083)</td>\n",
       "      <td>NaN</td>\n",
       "      <td>NaN</td>\n",
       "      <td>1011      EAST 37 STREET</td>\n",
       "      <td>...</td>\n",
       "      <td>0</td>\n",
       "      <td>0</td>\n",
       "      <td>0</td>\n",
       "      <td>0</td>\n",
       "      <td>0</td>\n",
       "      <td>Unspecified</td>\n",
       "      <td>Unspecified</td>\n",
       "      <td>3821035</td>\n",
       "      <td>Sedan</td>\n",
       "      <td>NaN</td>\n",
       "    </tr>\n",
       "  </tbody>\n",
       "</table>\n",
       "<p>5 rows × 23 columns</p>\n",
       "</div>"
      ],
      "text/plain": [
       "   CRASH DATE CRASH TIME    BOROUGH  ZIP CODE   LATITUDE  LONGITUDE  \\\n",
       "0  01/01/2017       3:32   BROOKLYN   11237.0  40.709330  -73.92249   \n",
       "1  01/01/2017      10:20     QUEENS   11372.0  40.751003  -73.89213   \n",
       "2  01/01/2017      16:15  MANHATTAN   10027.0  40.807770  -73.94549   \n",
       "3  01/01/2017      11:01  MANHATTAN   10017.0  40.751120  -73.97127   \n",
       "4  01/01/2017       0:00   BROOKLYN   11210.0  40.632427  -73.94083   \n",
       "\n",
       "                 LOCATION                    ON STREET NAME CROSS STREET NAME  \\\n",
       "0   (40.70933, -73.92249)  JOHNSON AVENUE                        SCOTT AVENUE   \n",
       "1  (40.751003, -73.89213)  35 AVENUE                                74 STREET   \n",
       "2   (40.80777, -73.94549)  WEST 125 STREET                       LENOX AVENUE   \n",
       "3   (40.75112, -73.97127)  EAST 44 STREET                            2 AVENUE   \n",
       "4  (40.632427, -73.94083)                               NaN               NaN   \n",
       "\n",
       "                            OFF STREET NAME  ...  \\\n",
       "0                                       NaN  ...   \n",
       "1                                       NaN  ...   \n",
       "2                                       NaN  ...   \n",
       "3                                       NaN  ...   \n",
       "4  1011      EAST 37 STREET                  ...   \n",
       "\n",
       "   NUMBER OF PEDESTRIANS KILLED  NUMBER OF CYCLIST INJURED  \\\n",
       "0                             0                          0   \n",
       "1                             0                          0   \n",
       "2                             0                          0   \n",
       "3                             0                          0   \n",
       "4                             0                          0   \n",
       "\n",
       "   NUMBER OF CYCLIST KILLED  NUMBER OF MOTORIST INJURED  \\\n",
       "0                         0                           3   \n",
       "1                         0                           0   \n",
       "2                         0                           0   \n",
       "3                         0                           0   \n",
       "4                         0                           0   \n",
       "\n",
       "   NUMBER OF MOTORIST KILLED   CONTRIBUTING FACTOR VEHICLE 1  \\\n",
       "0                          0     Traffic Control Disregarded   \n",
       "1                          0                     Unspecified   \n",
       "2                          0  Driver Inattention/Distraction   \n",
       "3                          0  Driver Inattention/Distraction   \n",
       "4                          0                     Unspecified   \n",
       "\n",
       "   CONTRIBUTING FACTOR VEHICLE 2  COLLISION_ID  \\\n",
       "0                    Unspecified       3591133   \n",
       "1                    Unspecified       3596737   \n",
       "2                            NaN       3590923   \n",
       "3          Following Too Closely       3590173   \n",
       "4                    Unspecified       3821035   \n",
       "\n",
       "                   VEHICLE TYPE CODE 1                  VEHICLE TYPE CODE 2  \n",
       "0  Station Wagon/Sport Utility Vehicle                                Sedan  \n",
       "1                                 Taxi                                 Taxi  \n",
       "2                                Sedan                                  NaN  \n",
       "3  Station Wagon/Sport Utility Vehicle  Station Wagon/Sport Utility Vehicle  \n",
       "4                                Sedan                                  NaN  \n",
       "\n",
       "[5 rows x 23 columns]"
      ]
     },
     "execution_count": 3,
     "metadata": {},
     "output_type": "execute_result"
    }
   ],
   "source": [
    "clean_df.head()"
   ]
  },
  {
   "cell_type": "markdown",
   "id": "cef8509f",
   "metadata": {},
   "source": [
    "# Calculations"
   ]
  },
  {
   "cell_type": "markdown",
   "id": "0143ef29",
   "metadata": {},
   "source": [
    "### By Borough"
   ]
  },
  {
   "cell_type": "markdown",
   "id": "9b29c7db",
   "metadata": {},
   "source": [
    "Get the number of accidents/collisions by borough"
   ]
  },
  {
   "cell_type": "code",
   "execution_count": 4,
   "id": "0fad00ab",
   "metadata": {},
   "outputs": [],
   "source": [
    " accidentByBoros=clean_df['BOROUGH'].value_counts()"
   ]
  },
  {
   "cell_type": "code",
   "execution_count": 5,
   "id": "020f4201",
   "metadata": {},
   "outputs": [
    {
     "data": {
      "text/plain": [
       "BROOKLYN         183473\n",
       "QUEENS           156056\n",
       "MANHATTAN        107136\n",
       "BRONX             90881\n",
       "STATEN ISLAND     20430\n",
       "Name: BOROUGH, dtype: int64"
      ]
     },
     "execution_count": 5,
     "metadata": {},
     "output_type": "execute_result"
    }
   ],
   "source": [
    " accidentByBoros.head(100)"
   ]
  },
  {
   "cell_type": "markdown",
   "id": "9baeb73e",
   "metadata": {},
   "source": [
    "total number of acccidents"
   ]
  },
  {
   "cell_type": "code",
   "execution_count": 6,
   "id": "53b4adf1",
   "metadata": {},
   "outputs": [
    {
     "data": {
      "text/html": [
       "<div>\n",
       "<style scoped>\n",
       "    .dataframe tbody tr th:only-of-type {\n",
       "        vertical-align: middle;\n",
       "    }\n",
       "\n",
       "    .dataframe tbody tr th {\n",
       "        vertical-align: top;\n",
       "    }\n",
       "\n",
       "    .dataframe thead th {\n",
       "        text-align: right;\n",
       "    }\n",
       "</style>\n",
       "<table border=\"1\" class=\"dataframe\">\n",
       "  <thead>\n",
       "    <tr style=\"text-align: right;\">\n",
       "      <th></th>\n",
       "      <th>pedestrians kill</th>\n",
       "    </tr>\n",
       "  </thead>\n",
       "  <tbody>\n",
       "    <tr>\n",
       "      <th>BROOKLYN</th>\n",
       "      <td>183473</td>\n",
       "    </tr>\n",
       "    <tr>\n",
       "      <th>QUEENS</th>\n",
       "      <td>156056</td>\n",
       "    </tr>\n",
       "    <tr>\n",
       "      <th>MANHATTAN</th>\n",
       "      <td>107136</td>\n",
       "    </tr>\n",
       "    <tr>\n",
       "      <th>BRONX</th>\n",
       "      <td>90881</td>\n",
       "    </tr>\n",
       "    <tr>\n",
       "      <th>STATEN ISLAND</th>\n",
       "      <td>20430</td>\n",
       "    </tr>\n",
       "  </tbody>\n",
       "</table>\n",
       "</div>"
      ],
      "text/plain": [
       "               pedestrians kill\n",
       "BROOKLYN                 183473\n",
       "QUEENS                   156056\n",
       "MANHATTAN                107136\n",
       "BRONX                     90881\n",
       "STATEN ISLAND             20430"
      ]
     },
     "execution_count": 6,
     "metadata": {},
     "output_type": "execute_result"
    }
   ],
   "source": [
    "boros=list(clean_df['BOROUGH'].unique())\n",
    "data=[1,1,1,1,1]\n",
    "title=\"pedestrians kill\"\n",
    "accidents=pd.DataFrame({title:data}, index=boros)\n",
    "accidents\n",
    "for boro in boros:\n",
    "    total=clean_df[clean_df['BOROUGH']==boro]['BOROUGH'].count()\n",
    "    accidents.loc[boro]=total\n",
    "accidents"
   ]
  },
  {
   "cell_type": "code",
   "execution_count": null,
   "id": "7573a619",
   "metadata": {},
   "outputs": [],
   "source": []
  },
  {
   "cell_type": "code",
   "execution_count": null,
   "id": "17aa5aa0",
   "metadata": {},
   "outputs": [],
   "source": []
  },
  {
   "cell_type": "markdown",
   "id": "9c4eb135",
   "metadata": {},
   "source": [
    "Cauclaltes the number of pedestrians killed by boro"
   ]
  },
  {
   "cell_type": "code",
   "execution_count": 7,
   "id": "38a42ca6",
   "metadata": {},
   "outputs": [
    {
     "data": {
      "text/html": [
       "<div>\n",
       "<style scoped>\n",
       "    .dataframe tbody tr th:only-of-type {\n",
       "        vertical-align: middle;\n",
       "    }\n",
       "\n",
       "    .dataframe tbody tr th {\n",
       "        vertical-align: top;\n",
       "    }\n",
       "\n",
       "    .dataframe thead th {\n",
       "        text-align: right;\n",
       "    }\n",
       "</style>\n",
       "<table border=\"1\" class=\"dataframe\">\n",
       "  <thead>\n",
       "    <tr style=\"text-align: right;\">\n",
       "      <th></th>\n",
       "      <th>pedestrians kill</th>\n",
       "    </tr>\n",
       "  </thead>\n",
       "  <tbody>\n",
       "    <tr>\n",
       "      <th>BROOKLYN</th>\n",
       "      <td>118</td>\n",
       "    </tr>\n",
       "    <tr>\n",
       "      <th>QUEENS</th>\n",
       "      <td>108</td>\n",
       "    </tr>\n",
       "    <tr>\n",
       "      <th>MANHATTAN</th>\n",
       "      <td>76</td>\n",
       "    </tr>\n",
       "    <tr>\n",
       "      <th>BRONX</th>\n",
       "      <td>38</td>\n",
       "    </tr>\n",
       "    <tr>\n",
       "      <th>STATEN ISLAND</th>\n",
       "      <td>14</td>\n",
       "    </tr>\n",
       "  </tbody>\n",
       "</table>\n",
       "</div>"
      ],
      "text/plain": [
       "               pedestrians kill\n",
       "BROOKLYN                    118\n",
       "QUEENS                      108\n",
       "MANHATTAN                    76\n",
       "BRONX                        38\n",
       "STATEN ISLAND                14"
      ]
     },
     "execution_count": 7,
     "metadata": {},
     "output_type": "execute_result"
    }
   ],
   "source": [
    "boros=list(clean_df['BOROUGH'].unique())\n",
    "data=[1,1,1,1,1]\n",
    "title=\"pedestrians kill\"\n",
    "pedes_killed=pd.DataFrame({title:data}, index=boros)\n",
    "for boro in boros:\n",
    "    summ=clean_df[clean_df['BOROUGH']==boro]['NUMBER OF PEDESTRIANS KILLED'].sum()\n",
    "    pedes_killed.loc[boro]=summ\n",
    "pedes_killed"
   ]
  },
  {
   "cell_type": "markdown",
   "id": "f82ce29b",
   "metadata": {},
   "source": [
    "find calculation by boro"
   ]
  },
  {
   "cell_type": "code",
   "execution_count": 8,
   "id": "d31acd46",
   "metadata": {},
   "outputs": [],
   "source": [
    "def findValuesByBoros(value,title):\n",
    "    boros=list(clean_df['BOROUGH'].unique())\n",
    "    data=[1,1,1,1,1]\n",
    "    calculations_by_boro_df=pd.DataFrame({title:data}, index=boros)\n",
    "    \n",
    "    for boro in boros:\n",
    "             total=clean_df[clean_df['BOROUGH']==boro][value].sum()\n",
    "             calculations_by_boro_df.loc[boro]=total\n",
    "             \n",
    "    return calculations_by_boro_df"
   ]
  },
  {
   "cell_type": "markdown",
   "id": "471a0a93",
   "metadata": {},
   "source": [
    "Mototist killed by boro"
   ]
  },
  {
   "cell_type": "code",
   "execution_count": 9,
   "id": "c249ffcd",
   "metadata": {},
   "outputs": [],
   "source": [
    "motoris_killed=findValuesByBoros('NUMBER OF MOTORIST KILLED','NUMBER OF MOTORIST KILLED')"
   ]
  },
  {
   "cell_type": "markdown",
   "id": "df226146",
   "metadata": {},
   "source": [
    "number of cyclist killed by boro"
   ]
  },
  {
   "cell_type": "code",
   "execution_count": 10,
   "id": "b9f7a8a7",
   "metadata": {
    "scrolled": true
   },
   "outputs": [
    {
     "data": {
      "text/html": [
       "<div>\n",
       "<style scoped>\n",
       "    .dataframe tbody tr th:only-of-type {\n",
       "        vertical-align: middle;\n",
       "    }\n",
       "\n",
       "    .dataframe tbody tr th {\n",
       "        vertical-align: top;\n",
       "    }\n",
       "\n",
       "    .dataframe thead th {\n",
       "        text-align: right;\n",
       "    }\n",
       "</style>\n",
       "<table border=\"1\" class=\"dataframe\">\n",
       "  <thead>\n",
       "    <tr style=\"text-align: right;\">\n",
       "      <th></th>\n",
       "      <th>NUMBER OF CYCLIST KILLED</th>\n",
       "    </tr>\n",
       "  </thead>\n",
       "  <tbody>\n",
       "    <tr>\n",
       "      <th>BROOKLYN</th>\n",
       "      <td>32</td>\n",
       "    </tr>\n",
       "    <tr>\n",
       "      <th>QUEENS</th>\n",
       "      <td>12</td>\n",
       "    </tr>\n",
       "    <tr>\n",
       "      <th>MANHATTAN</th>\n",
       "      <td>16</td>\n",
       "    </tr>\n",
       "    <tr>\n",
       "      <th>BRONX</th>\n",
       "      <td>9</td>\n",
       "    </tr>\n",
       "    <tr>\n",
       "      <th>STATEN ISLAND</th>\n",
       "      <td>1</td>\n",
       "    </tr>\n",
       "  </tbody>\n",
       "</table>\n",
       "</div>"
      ],
      "text/plain": [
       "               NUMBER OF CYCLIST KILLED\n",
       "BROOKLYN                             32\n",
       "QUEENS                               12\n",
       "MANHATTAN                            16\n",
       "BRONX                                 9\n",
       "STATEN ISLAND                         1"
      ]
     },
     "execution_count": 10,
     "metadata": {},
     "output_type": "execute_result"
    }
   ],
   "source": [
    "cyclist_killed=findValuesByBoros('NUMBER OF CYCLIST KILLED','NUMBER OF CYCLIST KILLED')\n",
    "cyclist_killed \n",
    "    "
   ]
  },
  {
   "cell_type": "markdown",
   "id": "7b9db1fd",
   "metadata": {},
   "source": [
    "Number of total deaths by burough. validate numbers."
   ]
  },
  {
   "cell_type": "code",
   "execution_count": null,
   "id": "3ed31d15",
   "metadata": {},
   "outputs": [],
   "source": []
  },
  {
   "cell_type": "code",
   "execution_count": 11,
   "id": "fb0449a4",
   "metadata": {},
   "outputs": [],
   "source": [
    "total=clean_df['NUMBER OF CYCLIST KILLED'].sum()+clean_df['NUMBER OF MOTORIST KILLED'].sum()+clean_df['NUMBER OF PEDESTRIANS KILLED'].sum()\n",
    "total_motoris=motoris_killed.sum()\n",
    "total_cyclist=cyclist_killed.sum() \n",
    "total_pedes = pedes_killed.sum()\n",
    "total_from_cal=int(total_motoris)+int(total_cyclist)+pedes_killed['pedestrians kill']\n",
    "\n",
    "\n"
   ]
  },
  {
   "cell_type": "code",
   "execution_count": null,
   "id": "85849395",
   "metadata": {},
   "outputs": [],
   "source": []
  },
  {
   "cell_type": "code",
   "execution_count": 12,
   "id": "1bd43946",
   "metadata": {},
   "outputs": [
    {
     "data": {
      "text/html": [
       "<div>\n",
       "<style scoped>\n",
       "    .dataframe tbody tr th:only-of-type {\n",
       "        vertical-align: middle;\n",
       "    }\n",
       "\n",
       "    .dataframe tbody tr th {\n",
       "        vertical-align: top;\n",
       "    }\n",
       "\n",
       "    .dataframe thead th {\n",
       "        text-align: right;\n",
       "    }\n",
       "</style>\n",
       "<table border=\"1\" class=\"dataframe\">\n",
       "  <thead>\n",
       "    <tr style=\"text-align: right;\">\n",
       "      <th></th>\n",
       "      <th>pedestrians kill</th>\n",
       "    </tr>\n",
       "  </thead>\n",
       "  <tbody>\n",
       "    <tr>\n",
       "      <th>BROOKLYN</th>\n",
       "      <td>118</td>\n",
       "    </tr>\n",
       "    <tr>\n",
       "      <th>QUEENS</th>\n",
       "      <td>108</td>\n",
       "    </tr>\n",
       "    <tr>\n",
       "      <th>MANHATTAN</th>\n",
       "      <td>76</td>\n",
       "    </tr>\n",
       "    <tr>\n",
       "      <th>BRONX</th>\n",
       "      <td>38</td>\n",
       "    </tr>\n",
       "    <tr>\n",
       "      <th>STATEN ISLAND</th>\n",
       "      <td>14</td>\n",
       "    </tr>\n",
       "  </tbody>\n",
       "</table>\n",
       "</div>"
      ],
      "text/plain": [
       "               pedestrians kill\n",
       "BROOKLYN                    118\n",
       "QUEENS                      108\n",
       "MANHATTAN                    76\n",
       "BRONX                        38\n",
       "STATEN ISLAND                14"
      ]
     },
     "execution_count": 12,
     "metadata": {},
     "output_type": "execute_result"
    }
   ],
   "source": [
    "pedes_killed"
   ]
  },
  {
   "cell_type": "code",
   "execution_count": 13,
   "id": "80e0b3ed",
   "metadata": {},
   "outputs": [
    {
     "data": {
      "text/plain": [
       "BROOKLYN         228\n",
       "QUEENS           201\n",
       "MANHATTAN        115\n",
       "BRONX             83\n",
       "STATEN ISLAND     32\n",
       "dtype: int64"
      ]
     },
     "execution_count": 13,
     "metadata": {},
     "output_type": "execute_result"
    }
   ],
   "source": [
    "\n",
    "\n",
    "total_killed=pedes_killed['pedestrians kill']+cyclist_killed['NUMBER OF CYCLIST KILLED']+motoris_killed['NUMBER OF MOTORIST KILLED']\n",
    "total_killed"
   ]
  },
  {
   "cell_type": "code",
   "execution_count": 14,
   "id": "214ac824",
   "metadata": {},
   "outputs": [
    {
     "data": {
      "text/plain": [
       "BROOKLYN         228\n",
       "QUEENS           201\n",
       "MANHATTAN        115\n",
       "BRONX             83\n",
       "STATEN ISLAND     32\n",
       "dtype: int64"
      ]
     },
     "execution_count": 14,
     "metadata": {},
     "output_type": "execute_result"
    }
   ],
   "source": [
    "total_killed.rename({0: \"total dead by boro\"})"
   ]
  },
  {
   "cell_type": "code",
   "execution_count": 15,
   "id": "ce70f184",
   "metadata": {},
   "outputs": [
    {
     "data": {
      "text/plain": [
       "659"
      ]
     },
     "execution_count": 15,
     "metadata": {},
     "output_type": "execute_result"
    }
   ],
   "source": [
    "total_killed.sum()"
   ]
  },
  {
   "cell_type": "markdown",
   "id": "c4d32172",
   "metadata": {},
   "source": [
    " number motoris injured"
   ]
  },
  {
   "cell_type": "code",
   "execution_count": 16,
   "id": "f769ece0",
   "metadata": {},
   "outputs": [],
   "source": [
    "motorist_injued=findValuesByBoros('NUMBER OF MOTORIST INJURED','motorist injured')"
   ]
  },
  {
   "cell_type": "code",
   "execution_count": null,
   "id": "616cacf5",
   "metadata": {},
   "outputs": [],
   "source": []
  },
  {
   "cell_type": "markdown",
   "id": "284be403",
   "metadata": {},
   "source": [
    " number of cyclis injured"
   ]
  },
  {
   "cell_type": "code",
   "execution_count": 17,
   "id": "eb13bc32",
   "metadata": {},
   "outputs": [
    {
     "data": {
      "text/html": [
       "<div>\n",
       "<style scoped>\n",
       "    .dataframe tbody tr th:only-of-type {\n",
       "        vertical-align: middle;\n",
       "    }\n",
       "\n",
       "    .dataframe tbody tr th {\n",
       "        vertical-align: top;\n",
       "    }\n",
       "\n",
       "    .dataframe thead th {\n",
       "        text-align: right;\n",
       "    }\n",
       "</style>\n",
       "<table border=\"1\" class=\"dataframe\">\n",
       "  <thead>\n",
       "    <tr style=\"text-align: right;\">\n",
       "      <th></th>\n",
       "      <th>cyclist injured</th>\n",
       "    </tr>\n",
       "  </thead>\n",
       "  <tbody>\n",
       "    <tr>\n",
       "      <th>BROOKLYN</th>\n",
       "      <td>6874</td>\n",
       "    </tr>\n",
       "    <tr>\n",
       "      <th>QUEENS</th>\n",
       "      <td>3532</td>\n",
       "    </tr>\n",
       "    <tr>\n",
       "      <th>MANHATTAN</th>\n",
       "      <td>4852</td>\n",
       "    </tr>\n",
       "    <tr>\n",
       "      <th>BRONX</th>\n",
       "      <td>2028</td>\n",
       "    </tr>\n",
       "    <tr>\n",
       "      <th>STATEN ISLAND</th>\n",
       "      <td>227</td>\n",
       "    </tr>\n",
       "  </tbody>\n",
       "</table>\n",
       "</div>"
      ],
      "text/plain": [
       "               cyclist injured\n",
       "BROOKLYN                  6874\n",
       "QUEENS                    3532\n",
       "MANHATTAN                 4852\n",
       "BRONX                     2028\n",
       "STATEN ISLAND              227"
      ]
     },
     "execution_count": 17,
     "metadata": {},
     "output_type": "execute_result"
    }
   ],
   "source": [
    "cyclist_injued=findValuesByBoros('NUMBER OF CYCLIST INJURED','cyclist injured')\n",
    "cyclist_injued"
   ]
  },
  {
   "cell_type": "code",
   "execution_count": null,
   "id": "f4a88d82",
   "metadata": {},
   "outputs": [],
   "source": []
  },
  {
   "cell_type": "code",
   "execution_count": 18,
   "id": "7183027f",
   "metadata": {},
   "outputs": [
    {
     "data": {
      "text/html": [
       "<div>\n",
       "<style scoped>\n",
       "    .dataframe tbody tr th:only-of-type {\n",
       "        vertical-align: middle;\n",
       "    }\n",
       "\n",
       "    .dataframe tbody tr th {\n",
       "        vertical-align: top;\n",
       "    }\n",
       "\n",
       "    .dataframe thead th {\n",
       "        text-align: right;\n",
       "    }\n",
       "</style>\n",
       "<table border=\"1\" class=\"dataframe\">\n",
       "  <thead>\n",
       "    <tr style=\"text-align: right;\">\n",
       "      <th></th>\n",
       "      <th>pedestrians injured</th>\n",
       "    </tr>\n",
       "  </thead>\n",
       "  <tbody>\n",
       "    <tr>\n",
       "      <th>BROOKLYN</th>\n",
       "      <td>11657</td>\n",
       "    </tr>\n",
       "    <tr>\n",
       "      <th>QUEENS</th>\n",
       "      <td>8431</td>\n",
       "    </tr>\n",
       "    <tr>\n",
       "      <th>MANHATTAN</th>\n",
       "      <td>6922</td>\n",
       "    </tr>\n",
       "    <tr>\n",
       "      <th>BRONX</th>\n",
       "      <td>6116</td>\n",
       "    </tr>\n",
       "    <tr>\n",
       "      <th>STATEN ISLAND</th>\n",
       "      <td>859</td>\n",
       "    </tr>\n",
       "  </tbody>\n",
       "</table>\n",
       "</div>"
      ],
      "text/plain": [
       "               pedestrians injured\n",
       "BROOKLYN                     11657\n",
       "QUEENS                        8431\n",
       "MANHATTAN                     6922\n",
       "BRONX                         6116\n",
       "STATEN ISLAND                  859"
      ]
     },
     "execution_count": 18,
     "metadata": {},
     "output_type": "execute_result"
    }
   ],
   "source": [
    "pedestrians_injued=findValuesByBoros('NUMBER OF PEDESTRIANS INJURED','pedestrians injured')\n",
    "pedestrians_injued"
   ]
  },
  {
   "cell_type": "code",
   "execution_count": 19,
   "id": "ccbc2962",
   "metadata": {},
   "outputs": [],
   "source": [
    "total_injured=pedestrians_injued['pedestrians injured']+cyclist_injued['cyclist injured']+motorist_injued['motorist injured']"
   ]
  },
  {
   "cell_type": "code",
   "execution_count": 20,
   "id": "7d273a2a",
   "metadata": {},
   "outputs": [
    {
     "data": {
      "text/plain": [
       "BROOKLYN         57863\n",
       "QUEENS           46196\n",
       "MANHATTAN        23406\n",
       "BRONX            28131\n",
       "STATEN ISLAND     6169\n",
       "dtype: int64"
      ]
     },
     "execution_count": 20,
     "metadata": {},
     "output_type": "execute_result"
    }
   ],
   "source": [
    "total_injured"
   ]
  },
  {
   "cell_type": "code",
   "execution_count": 21,
   "id": "c833f95a",
   "metadata": {},
   "outputs": [],
   "source": [
    "infomation_by_boro=pd.concat([motoris_killed,pedes_killed,\n",
    "cyclist_killed,total_killed,cyclist_injued,\n",
    "pedestrians_injued,motorist_injued,total_injured],axis=1)\n",
    "\n"
   ]
  },
  {
   "cell_type": "code",
   "execution_count": 22,
   "id": "cbafb357",
   "metadata": {},
   "outputs": [
    {
     "data": {
      "text/html": [
       "<div>\n",
       "<style scoped>\n",
       "    .dataframe tbody tr th:only-of-type {\n",
       "        vertical-align: middle;\n",
       "    }\n",
       "\n",
       "    .dataframe tbody tr th {\n",
       "        vertical-align: top;\n",
       "    }\n",
       "\n",
       "    .dataframe thead th {\n",
       "        text-align: right;\n",
       "    }\n",
       "</style>\n",
       "<table border=\"1\" class=\"dataframe\">\n",
       "  <thead>\n",
       "    <tr style=\"text-align: right;\">\n",
       "      <th></th>\n",
       "      <th>NUMBER OF MOTORIST KILLED</th>\n",
       "      <th>pedestrians kill</th>\n",
       "      <th>NUMBER OF CYCLIST KILLED</th>\n",
       "      <th>total deads</th>\n",
       "      <th>cyclist injured</th>\n",
       "      <th>pedestrians injured</th>\n",
       "      <th>motorist injured</th>\n",
       "      <th>total injured</th>\n",
       "    </tr>\n",
       "  </thead>\n",
       "  <tbody>\n",
       "    <tr>\n",
       "      <th>BROOKLYN</th>\n",
       "      <td>78</td>\n",
       "      <td>118</td>\n",
       "      <td>32</td>\n",
       "      <td>228</td>\n",
       "      <td>6874</td>\n",
       "      <td>11657</td>\n",
       "      <td>39332</td>\n",
       "      <td>57863</td>\n",
       "    </tr>\n",
       "    <tr>\n",
       "      <th>QUEENS</th>\n",
       "      <td>81</td>\n",
       "      <td>108</td>\n",
       "      <td>12</td>\n",
       "      <td>201</td>\n",
       "      <td>3532</td>\n",
       "      <td>8431</td>\n",
       "      <td>34233</td>\n",
       "      <td>46196</td>\n",
       "    </tr>\n",
       "    <tr>\n",
       "      <th>MANHATTAN</th>\n",
       "      <td>23</td>\n",
       "      <td>76</td>\n",
       "      <td>16</td>\n",
       "      <td>115</td>\n",
       "      <td>4852</td>\n",
       "      <td>6922</td>\n",
       "      <td>11632</td>\n",
       "      <td>23406</td>\n",
       "    </tr>\n",
       "    <tr>\n",
       "      <th>BRONX</th>\n",
       "      <td>36</td>\n",
       "      <td>38</td>\n",
       "      <td>9</td>\n",
       "      <td>83</td>\n",
       "      <td>2028</td>\n",
       "      <td>6116</td>\n",
       "      <td>19987</td>\n",
       "      <td>28131</td>\n",
       "    </tr>\n",
       "    <tr>\n",
       "      <th>STATEN ISLAND</th>\n",
       "      <td>17</td>\n",
       "      <td>14</td>\n",
       "      <td>1</td>\n",
       "      <td>32</td>\n",
       "      <td>227</td>\n",
       "      <td>859</td>\n",
       "      <td>5083</td>\n",
       "      <td>6169</td>\n",
       "    </tr>\n",
       "  </tbody>\n",
       "</table>\n",
       "</div>"
      ],
      "text/plain": [
       "               NUMBER OF MOTORIST KILLED  pedestrians kill  \\\n",
       "BROOKLYN                              78               118   \n",
       "QUEENS                                81               108   \n",
       "MANHATTAN                             23                76   \n",
       "BRONX                                 36                38   \n",
       "STATEN ISLAND                         17                14   \n",
       "\n",
       "               NUMBER OF CYCLIST KILLED  total deads  cyclist injured  \\\n",
       "BROOKLYN                             32          228             6874   \n",
       "QUEENS                               12          201             3532   \n",
       "MANHATTAN                            16          115             4852   \n",
       "BRONX                                 9           83             2028   \n",
       "STATEN ISLAND                         1           32              227   \n",
       "\n",
       "               pedestrians injured  motorist injured  total injured  \n",
       "BROOKLYN                     11657             39332          57863  \n",
       "QUEENS                        8431             34233          46196  \n",
       "MANHATTAN                     6922             11632          23406  \n",
       "BRONX                         6116             19987          28131  \n",
       "STATEN ISLAND                  859              5083           6169  "
      ]
     },
     "execution_count": 22,
     "metadata": {},
     "output_type": "execute_result"
    }
   ],
   "source": [
    "infomation_by_boro=infomation_by_boro.rename(columns={0:\"total deads\"})\n",
    "infomation_by_boro=infomation_by_boro.rename(columns={1:\"total injured\"})\n",
    "infomation_by_boro"
   ]
  },
  {
   "cell_type": "code",
   "execution_count": 23,
   "id": "ad361e04",
   "metadata": {},
   "outputs": [],
   "source": [
    "infomation_by_boro.columns=infomation_by_boro.columns.str.lower()"
   ]
  },
  {
   "cell_type": "code",
   "execution_count": 24,
   "id": "519a7111",
   "metadata": {},
   "outputs": [],
   "source": [
    "infomation_by_boro.index=infomation_by_boro.index.str.lower()"
   ]
  },
  {
   "cell_type": "markdown",
   "id": "af841457",
   "metadata": {},
   "source": [
    "toal number by boro"
   ]
  },
  {
   "cell_type": "code",
   "execution_count": 25,
   "id": "40dc3e6a",
   "metadata": {},
   "outputs": [
    {
     "data": {
      "text/html": [
       "<div>\n",
       "<style scoped>\n",
       "    .dataframe tbody tr th:only-of-type {\n",
       "        vertical-align: middle;\n",
       "    }\n",
       "\n",
       "    .dataframe tbody tr th {\n",
       "        vertical-align: top;\n",
       "    }\n",
       "\n",
       "    .dataframe thead th {\n",
       "        text-align: right;\n",
       "    }\n",
       "</style>\n",
       "<table border=\"1\" class=\"dataframe\">\n",
       "  <thead>\n",
       "    <tr style=\"text-align: right;\">\n",
       "      <th></th>\n",
       "      <th>number of motorist killed</th>\n",
       "      <th>pedestrians kill</th>\n",
       "      <th>number of cyclist killed</th>\n",
       "      <th>total deads</th>\n",
       "      <th>cyclist injured</th>\n",
       "      <th>pedestrians injured</th>\n",
       "      <th>motorist injured</th>\n",
       "      <th>total injured</th>\n",
       "    </tr>\n",
       "  </thead>\n",
       "  <tbody>\n",
       "    <tr>\n",
       "      <th>brooklyn</th>\n",
       "      <td>78</td>\n",
       "      <td>118</td>\n",
       "      <td>32</td>\n",
       "      <td>228</td>\n",
       "      <td>6874</td>\n",
       "      <td>11657</td>\n",
       "      <td>39332</td>\n",
       "      <td>57863</td>\n",
       "    </tr>\n",
       "    <tr>\n",
       "      <th>queens</th>\n",
       "      <td>81</td>\n",
       "      <td>108</td>\n",
       "      <td>12</td>\n",
       "      <td>201</td>\n",
       "      <td>3532</td>\n",
       "      <td>8431</td>\n",
       "      <td>34233</td>\n",
       "      <td>46196</td>\n",
       "    </tr>\n",
       "    <tr>\n",
       "      <th>manhattan</th>\n",
       "      <td>23</td>\n",
       "      <td>76</td>\n",
       "      <td>16</td>\n",
       "      <td>115</td>\n",
       "      <td>4852</td>\n",
       "      <td>6922</td>\n",
       "      <td>11632</td>\n",
       "      <td>23406</td>\n",
       "    </tr>\n",
       "    <tr>\n",
       "      <th>bronx</th>\n",
       "      <td>36</td>\n",
       "      <td>38</td>\n",
       "      <td>9</td>\n",
       "      <td>83</td>\n",
       "      <td>2028</td>\n",
       "      <td>6116</td>\n",
       "      <td>19987</td>\n",
       "      <td>28131</td>\n",
       "    </tr>\n",
       "    <tr>\n",
       "      <th>staten island</th>\n",
       "      <td>17</td>\n",
       "      <td>14</td>\n",
       "      <td>1</td>\n",
       "      <td>32</td>\n",
       "      <td>227</td>\n",
       "      <td>859</td>\n",
       "      <td>5083</td>\n",
       "      <td>6169</td>\n",
       "    </tr>\n",
       "  </tbody>\n",
       "</table>\n",
       "</div>"
      ],
      "text/plain": [
       "               number of motorist killed  pedestrians kill  \\\n",
       "brooklyn                              78               118   \n",
       "queens                                81               108   \n",
       "manhattan                             23                76   \n",
       "bronx                                 36                38   \n",
       "staten island                         17                14   \n",
       "\n",
       "               number of cyclist killed  total deads  cyclist injured  \\\n",
       "brooklyn                             32          228             6874   \n",
       "queens                               12          201             3532   \n",
       "manhattan                            16          115             4852   \n",
       "bronx                                 9           83             2028   \n",
       "staten island                         1           32              227   \n",
       "\n",
       "               pedestrians injured  motorist injured  total injured  \n",
       "brooklyn                     11657             39332          57863  \n",
       "queens                        8431             34233          46196  \n",
       "manhattan                     6922             11632          23406  \n",
       "bronx                         6116             19987          28131  \n",
       "staten island                  859              5083           6169  "
      ]
     },
     "execution_count": 25,
     "metadata": {},
     "output_type": "execute_result"
    }
   ],
   "source": [
    "infomation_by_boro"
   ]
  },
  {
   "cell_type": "code",
   "execution_count": 26,
   "id": "a1cb910a",
   "metadata": {},
   "outputs": [],
   "source": [
    "infomation_by_boro.to_csv(\"accident_infomation_by_boro.csv\")"
   ]
  },
  {
   "cell_type": "code",
   "execution_count": null,
   "id": "d541ca61",
   "metadata": {},
   "outputs": [],
   "source": [
    "\n"
   ]
  },
  {
   "cell_type": "code",
   "execution_count": null,
   "id": "da9aaa00",
   "metadata": {},
   "outputs": [],
   "source": []
  },
  {
   "cell_type": "code",
   "execution_count": null,
   "id": "0fb0f19b",
   "metadata": {},
   "outputs": [],
   "source": []
  },
  {
   "cell_type": "markdown",
   "id": "98ca54d2",
   "metadata": {},
   "source": []
  },
  {
   "cell_type": "code",
   "execution_count": null,
   "id": "3296110c",
   "metadata": {},
   "outputs": [],
   "source": []
  },
  {
   "cell_type": "code",
   "execution_count": null,
   "id": "6caaaee3",
   "metadata": {},
   "outputs": [],
   "source": []
  },
  {
   "cell_type": "code",
   "execution_count": null,
   "id": "976b0fd1",
   "metadata": {},
   "outputs": [],
   "source": []
  },
  {
   "cell_type": "markdown",
   "id": "d5b7b4e2",
   "metadata": {},
   "source": [
    "Number of people injusred by borough"
   ]
  },
  {
   "cell_type": "code",
   "execution_count": null,
   "id": "1a1f8cec",
   "metadata": {},
   "outputs": [],
   "source": []
  },
  {
   "cell_type": "code",
   "execution_count": null,
   "id": "9eafe215",
   "metadata": {},
   "outputs": [],
   "source": []
  },
  {
   "cell_type": "code",
   "execution_count": null,
   "id": "fee36ff3",
   "metadata": {},
   "outputs": [],
   "source": []
  },
  {
   "cell_type": "markdown",
   "id": "1937fc41",
   "metadata": {},
   "source": []
  },
  {
   "cell_type": "markdown",
   "id": "1c203efc",
   "metadata": {},
   "source": []
  },
  {
   "cell_type": "code",
   "execution_count": null,
   "id": "988b813b",
   "metadata": {},
   "outputs": [],
   "source": []
  },
  {
   "cell_type": "code",
   "execution_count": null,
   "id": "68324585",
   "metadata": {
    "scrolled": false
   },
   "outputs": [],
   "source": []
  },
  {
   "cell_type": "code",
   "execution_count": null,
   "id": "02b20ad8",
   "metadata": {},
   "outputs": [],
   "source": []
  },
  {
   "cell_type": "code",
   "execution_count": null,
   "id": "aaec21ee",
   "metadata": {},
   "outputs": [],
   "source": []
  },
  {
   "cell_type": "code",
   "execution_count": null,
   "id": "ef029fe9",
   "metadata": {},
   "outputs": [],
   "source": []
  },
  {
   "cell_type": "code",
   "execution_count": null,
   "id": "dd97aac0",
   "metadata": {},
   "outputs": [],
   "source": []
  },
  {
   "cell_type": "code",
   "execution_count": null,
   "id": "77720e7c",
   "metadata": {},
   "outputs": [],
   "source": []
  },
  {
   "cell_type": "markdown",
   "id": "e9e017be",
   "metadata": {},
   "source": [
    "Number of deaths by zipcode"
   ]
  },
  {
   "cell_type": "code",
   "execution_count": null,
   "id": "05ba6605",
   "metadata": {},
   "outputs": [],
   "source": []
  },
  {
   "cell_type": "code",
   "execution_count": null,
   "id": "c30ecc1d",
   "metadata": {},
   "outputs": [],
   "source": []
  },
  {
   "cell_type": "markdown",
   "id": "c264c7a1",
   "metadata": {},
   "source": [
    "Number of injuries by zipcode"
   ]
  },
  {
   "cell_type": "code",
   "execution_count": null,
   "id": "628fcba0",
   "metadata": {},
   "outputs": [],
   "source": []
  },
  {
   "cell_type": "code",
   "execution_count": null,
   "id": "75e4a262",
   "metadata": {},
   "outputs": [],
   "source": []
  },
  {
   "cell_type": "code",
   "execution_count": null,
   "id": "38841de6",
   "metadata": {},
   "outputs": [],
   "source": []
  },
  {
   "cell_type": "markdown",
   "id": "a6899142",
   "metadata": {},
   "source": [
    "## About the Vehicle(s)"
   ]
  },
  {
   "cell_type": "code",
   "execution_count": null,
   "id": "9a49b757",
   "metadata": {},
   "outputs": [],
   "source": []
  },
  {
   "cell_type": "code",
   "execution_count": null,
   "id": "20a167d0",
   "metadata": {},
   "outputs": [],
   "source": []
  },
  {
   "cell_type": "code",
   "execution_count": null,
   "id": "9788e2c6",
   "metadata": {},
   "outputs": [],
   "source": []
  },
  {
   "cell_type": "code",
   "execution_count": null,
   "id": "278298f8",
   "metadata": {},
   "outputs": [],
   "source": []
  },
  {
   "cell_type": "code",
   "execution_count": null,
   "id": "cc76f28e",
   "metadata": {},
   "outputs": [],
   "source": []
  },
  {
   "cell_type": "code",
   "execution_count": null,
   "id": "96921251",
   "metadata": {
    "scrolled": true
   },
   "outputs": [],
   "source": []
  },
  {
   "cell_type": "markdown",
   "id": "9a78010d",
   "metadata": {},
   "source": [
    "## Takes a long time!"
   ]
  },
  {
   "cell_type": "markdown",
   "id": "a4f27cec",
   "metadata": {},
   "source": [
    "Count the number of collisions by vehicle type"
   ]
  },
  {
   "cell_type": "code",
   "execution_count": null,
   "id": "754465ef",
   "metadata": {},
   "outputs": [],
   "source": []
  },
  {
   "cell_type": "code",
   "execution_count": null,
   "id": "f9baa013",
   "metadata": {},
   "outputs": [],
   "source": []
  },
  {
   "cell_type": "markdown",
   "id": "edfdae52",
   "metadata": {},
   "source": [
    "## Reasons for Collisions"
   ]
  },
  {
   "cell_type": "code",
   "execution_count": null,
   "id": "5afd6f03",
   "metadata": {},
   "outputs": [],
   "source": [
    "t"
   ]
  },
  {
   "cell_type": "code",
   "execution_count": null,
   "id": "7966a1d0",
   "metadata": {},
   "outputs": [],
   "source": []
  },
  {
   "cell_type": "code",
   "execution_count": null,
   "id": "ee4daa69",
   "metadata": {},
   "outputs": [],
   "source": []
  },
  {
   "cell_type": "code",
   "execution_count": null,
   "id": "9dabbe1d",
   "metadata": {},
   "outputs": [],
   "source": []
  },
  {
   "cell_type": "code",
   "execution_count": null,
   "id": "83e1561c",
   "metadata": {},
   "outputs": [],
   "source": []
  },
  {
   "cell_type": "code",
   "execution_count": null,
   "id": "c8996a31",
   "metadata": {},
   "outputs": [],
   "source": []
  },
  {
   "cell_type": "code",
   "execution_count": null,
   "id": "d76b8c54",
   "metadata": {},
   "outputs": [],
   "source": []
  },
  {
   "cell_type": "code",
   "execution_count": null,
   "id": "a6d913f8",
   "metadata": {},
   "outputs": [],
   "source": []
  },
  {
   "cell_type": "markdown",
   "id": "68a21df3",
   "metadata": {},
   "source": [
    "## By Year"
   ]
  },
  {
   "cell_type": "markdown",
   "id": "fb501177",
   "metadata": {},
   "source": [
    "How many collisions by year?"
   ]
  },
  {
   "cell_type": "code",
   "execution_count": null,
   "id": "5fe93555",
   "metadata": {},
   "outputs": [],
   "source": []
  },
  {
   "cell_type": "code",
   "execution_count": null,
   "id": "c60ff2db",
   "metadata": {},
   "outputs": [],
   "source": []
  },
  {
   "cell_type": "code",
   "execution_count": null,
   "id": "324f4bd0",
   "metadata": {},
   "outputs": [],
   "source": []
  },
  {
   "cell_type": "code",
   "execution_count": null,
   "id": "e4366cff",
   "metadata": {},
   "outputs": [],
   "source": []
  },
  {
   "cell_type": "code",
   "execution_count": null,
   "id": "3f5e1cbc",
   "metadata": {},
   "outputs": [],
   "source": []
  },
  {
   "cell_type": "code",
   "execution_count": null,
   "id": "f77fb0b7",
   "metadata": {},
   "outputs": [],
   "source": []
  },
  {
   "cell_type": "markdown",
   "id": "910f5dee",
   "metadata": {},
   "source": [
    "How many accidents occured by year?"
   ]
  },
  {
   "cell_type": "code",
   "execution_count": null,
   "id": "1d2feb7a",
   "metadata": {},
   "outputs": [],
   "source": []
  },
  {
   "cell_type": "code",
   "execution_count": null,
   "id": "0575f064",
   "metadata": {},
   "outputs": [],
   "source": []
  },
  {
   "cell_type": "markdown",
   "id": "66e25efb",
   "metadata": {},
   "source": [
    "How many people injured by year?"
   ]
  },
  {
   "cell_type": "code",
   "execution_count": null,
   "id": "2b3ed020",
   "metadata": {},
   "outputs": [],
   "source": []
  },
  {
   "cell_type": "code",
   "execution_count": null,
   "id": "cd88a561",
   "metadata": {},
   "outputs": [],
   "source": []
  },
  {
   "cell_type": "markdown",
   "id": "bcd92ebf",
   "metadata": {},
   "source": [
    "How many people killed by year?"
   ]
  },
  {
   "cell_type": "code",
   "execution_count": null,
   "id": "2e423f6d",
   "metadata": {},
   "outputs": [],
   "source": []
  },
  {
   "cell_type": "code",
   "execution_count": null,
   "id": "61dcbd2b",
   "metadata": {},
   "outputs": [],
   "source": []
  },
  {
   "cell_type": "code",
   "execution_count": null,
   "id": "c8c36b3d",
   "metadata": {},
   "outputs": [],
   "source": []
  }
 ],
 "metadata": {
  "kernelspec": {
   "display_name": "Python 3 (ipykernel)",
   "language": "python",
   "name": "python3"
  },
  "language_info": {
   "codemirror_mode": {
    "name": "ipython",
    "version": 3
   },
   "file_extension": ".py",
   "mimetype": "text/x-python",
   "name": "python",
   "nbconvert_exporter": "python",
   "pygments_lexer": "ipython3",
   "version": "3.10.4"
  }
 },
 "nbformat": 4,
 "nbformat_minor": 5
}
